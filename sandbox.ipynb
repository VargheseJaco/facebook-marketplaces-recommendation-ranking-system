{
 "cells": [
  {
   "cell_type": "markdown",
   "metadata": {},
   "source": [
    "# Sandbox"
   ]
  },
  {
   "cell_type": "markdown",
   "metadata": {},
   "source": [
    "First, we will create a Pandas Dataframe out of the Products.csv and clean it."
   ]
  },
  {
   "cell_type": "code",
   "execution_count": 1,
   "metadata": {},
   "outputs": [
    {
     "name": "stdout",
     "output_type": "stream",
     "text": [
      "NUMBER OF ROWS REMAINING: 7156\n",
      "\n",
      "Cleaning prices...\n",
      "NUMBER OF ROWS REMAINING: 7156\n",
      "\n",
      "Cleaning nulls...\n",
      "NUMBER OF ROWS REMAINING: 7156\n",
      "\n",
      "Displaying nulls in each column:\n",
      "id                     0\n",
      "product_name           0\n",
      "category               0\n",
      "product_description    0\n",
      "price                  0\n",
      "location               0\n",
      "dtype: int64\n"
     ]
    }
   ],
   "source": [
    "from data_cleaning import DataCleaning\n",
    "from pathlib import Path\n",
    "from PIL import Image\n",
    "import os\n",
    "import pandas as pd\n",
    "\n",
    "\n",
    "product_path = 'EC2_files/Products.csv'\n",
    "products_df = pd.read_csv(product_path, lineterminator='\\n')\n",
    "\n",
    "products_df.drop(columns='Unnamed: 0', inplace=True) #dropping unnecessary index column\n",
    "\n",
    "clean_products_df = DataCleaning(products_df).clean_product_table()\n"
   ]
  },
  {
   "cell_type": "markdown",
   "metadata": {},
   "source": [
    "Next we can create a column called 'root_category which will extract the main category from the 'category' column e.g. root category of \"Home & Garden / Dining, Living Room Furniture / Mirrors, Clocks & Ornaments\" is \"Home & Garden\". \n",
    "\n",
    "Making a set out of this column give us all the unique entries, allowing us to make an encoder(enumerating each category) and decoder(finding the category from the assigned number)."
   ]
  },
  {
   "cell_type": "code",
   "execution_count": 2,
   "metadata": {},
   "outputs": [],
   "source": [
    "clean_products_df['root_category'] = clean_products_df['category'].apply(lambda x:x.split(' / ')[0])\n",
    "\n",
    "root_set = set(clean_products_df['root_category'])\n",
    "\n",
    "encoder = {category: index for index, category in enumerate(root_set)}\n",
    "decoder = {category: index for index, category in encoder.items()}\n",
    "\n",
    "clean_products_df['label'] = clean_products_df['root_category'].apply(lambda x:encoder[x])\n"
   ]
  },
  {
   "cell_type": "markdown",
   "metadata": {},
   "source": [
    "Merging the Images and Product dataframes to produce a training set with the encoded labels for each image"
   ]
  },
  {
   "cell_type": "code",
   "execution_count": 3,
   "metadata": {},
   "outputs": [],
   "source": [
    "images_df = pd.read_csv('EC2_files/Images.csv')\n",
    "images_df.drop(columns='Unnamed: 0', inplace=True) #dropping unnecessary index column\n",
    "\n",
    "clean_products_df.rename(columns={'id': 'product_id'}, inplace=True) #renaming id column to product_id for table merge\n",
    "\n",
    "merged_df = pd.merge(clean_products_df, images_df, on='product_id')\n",
    "\n",
    "training_df = merged_df.drop(columns=['product_id', 'product_name', 'category', 'product_description', 'price', 'location','root_category'])\n"
   ]
  }
 ],
 "metadata": {
  "kernelspec": {
   "display_name": "base",
   "language": "python",
   "name": "python3"
  },
  "language_info": {
   "codemirror_mode": {
    "name": "ipython",
    "version": 3
   },
   "file_extension": ".py",
   "mimetype": "text/x-python",
   "name": "python",
   "nbconvert_exporter": "python",
   "pygments_lexer": "ipython3",
   "version": "3.11.4"
  }
 },
 "nbformat": 4,
 "nbformat_minor": 2
}
